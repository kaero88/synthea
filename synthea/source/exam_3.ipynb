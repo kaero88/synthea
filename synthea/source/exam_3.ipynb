{
 "cells": [
  {
   "cell_type": "code",
   "execution_count": 1,
   "metadata": {},
   "outputs": [],
   "source": [
    "import os\n",
    "import configparser\n",
    "\n",
    "import pandas as pd\n",
    "\n",
    "import psycopg2\n",
    "\n",
    "import time"
   ]
  },
  {
   "cell_type": "code",
   "execution_count": 2,
   "metadata": {},
   "outputs": [],
   "source": [
    "# 쿼리 조회 시간을 체크\n",
    "def my_timer(original_function):\n",
    "\n",
    "    def wrapper(*args, **kwargs):\n",
    "        t1 = time.time()\n",
    "        result = original_function(*args, **kwargs)\n",
    "        t2 = time.time() - t1\n",
    "        print('{} 함수가 실행된 총 시간: {} 초'.format(original_function.__name__, t2))\n",
    "        return result\n",
    "\n",
    "    return wrapper\n",
    "\n",
    "# @my_timer\n",
    "# DB에서 데이터를 불러오기 위함\n",
    "def query_select(query, params = []):\n",
    "\n",
    "    root_path = os.path.dirname(os.getcwd())\n",
    "    \n",
    "    config  = configparser.ConfigParser()\n",
    "    config.read(root_path + '/source/db_config.ini', encoding = 'utf-8')\n",
    "\n",
    "    USERNAME = config['POSTGRES']['USERNAME']\n",
    "    PASSWORD = config['POSTGRES']['PASSWORD']\n",
    "    HOST = config['POSTGRES']['HOST']\n",
    "    PORT = config['POSTGRES']['PORT']\n",
    "    DATABASE = config['POSTGRES']['DATABASE']\n",
    "    \n",
    "    conn = psycopg2.connect(host=HOST,\n",
    "                            user=USERNAME,\n",
    "                            password=PASSWORD,\n",
    "                            port=PORT,\n",
    "                            database=DATABASE\n",
    "                           )\n",
    "    \n",
    "    with conn.cursor() as cursor:\n",
    "        \n",
    "        if len(params) > 0:\n",
    "            cursor.execute(query, params)\n",
    "        else:\n",
    "            cursor.execute(query)\n",
    "            \n",
    "        headers = [x[0] for x in cursor.description]\n",
    "        data = cursor.fetchall()\n",
    "    \n",
    "    conn.close()\n",
    "       \n",
    "    return pd.DataFrame(columns=headers, data=data)"
   ]
  },
  {
   "cell_type": "code",
   "execution_count": 3,
   "metadata": {},
   "outputs": [],
   "source": [
    "# 환자에게 처방이 발생한 상병 중\n",
    "# 상병 첫글자가 'a','b','c','d','e' 이면서\n",
    "# 상병 중간에 heart를 포함를 포함 있는 상병\n",
    "qry = \"\"\"\n",
    "    select \n",
    "        distinct b.concept_name\n",
    "    from\n",
    "        condition_occurrence a\n",
    "        left join \n",
    "            (\n",
    "                select *\n",
    "                from concept \n",
    "                where \n",
    "                    substring(lower(concept_name),1,1) in ('a','b','c','d','e')\n",
    "                    and lower(concept_name) like '%heart%'\n",
    "            ) b\n",
    "        on a.condition_concept_id = b.concept_id\n",
    "    where concept_name is not null\t\n",
    "    ;\n",
    "\"\"\""
   ]
  },
  {
   "cell_type": "code",
   "execution_count": 4,
   "metadata": {},
   "outputs": [
    {
     "data": {
      "text/html": [
       "<div>\n",
       "<style scoped>\n",
       "    .dataframe tbody tr th:only-of-type {\n",
       "        vertical-align: middle;\n",
       "    }\n",
       "\n",
       "    .dataframe tbody tr th {\n",
       "        vertical-align: top;\n",
       "    }\n",
       "\n",
       "    .dataframe thead th {\n",
       "        text-align: right;\n",
       "    }\n",
       "</style>\n",
       "<table border=\"1\" class=\"dataframe\">\n",
       "  <thead>\n",
       "    <tr style=\"text-align: right;\">\n",
       "      <th></th>\n",
       "      <th>concept_name</th>\n",
       "    </tr>\n",
       "  </thead>\n",
       "  <tbody>\n",
       "    <tr>\n",
       "      <th>0</th>\n",
       "      <td>Chronic congestive heart failure</td>\n",
       "    </tr>\n",
       "  </tbody>\n",
       "</table>\n",
       "</div>"
      ],
      "text/plain": [
       "                       concept_name\n",
       "0  Chronic congestive heart failure"
      ]
     },
     "execution_count": 4,
     "metadata": {},
     "output_type": "execute_result"
    }
   ],
   "source": [
    "result = query_select(qry)\n",
    "result"
   ]
  },
  {
   "cell_type": "code",
   "execution_count": null,
   "metadata": {},
   "outputs": [],
   "source": []
  }
 ],
 "metadata": {
  "kernelspec": {
   "display_name": "Python 3",
   "language": "python",
   "name": "python3"
  },
  "language_info": {
   "codemirror_mode": {
    "name": "ipython",
    "version": 3
   },
   "file_extension": ".py",
   "mimetype": "text/x-python",
   "name": "python",
   "nbconvert_exporter": "python",
   "pygments_lexer": "ipython3",
   "version": "3.8.5"
  }
 },
 "nbformat": 4,
 "nbformat_minor": 4
}
