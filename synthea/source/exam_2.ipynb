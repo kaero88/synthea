{
 "cells": [
  {
   "cell_type": "code",
   "execution_count": 1,
   "metadata": {},
   "outputs": [],
   "source": [
    "import os\n",
    "import configparser\n",
    "\n",
    "import pandas as pd\n",
    "\n",
    "import psycopg2\n",
    "\n",
    "import time"
   ]
  },
  {
   "cell_type": "code",
   "execution_count": 2,
   "metadata": {},
   "outputs": [],
   "source": [
    "# 쿼리 조회 시간을 체크\n",
    "def my_timer(original_function):\n",
    "\n",
    "    def wrapper(*args, **kwargs):\n",
    "        t1 = time.time()\n",
    "        result = original_function(*args, **kwargs)\n",
    "        t2 = time.time() - t1\n",
    "        print('{} 함수가 실행된 총 시간: {} 초'.format(original_function.__name__, t2))\n",
    "        return result\n",
    "\n",
    "    return wrapper\n",
    "\n",
    "# @my_timer\n",
    "# DB에서 데이터를 불러오기 위함\n",
    "def query_select(query, params = []):\n",
    "\n",
    "    root_path = os.path.dirname(os.getcwd())\n",
    "    \n",
    "    config  = configparser.ConfigParser()\n",
    "    config.read(root_path + '/source/db_config.ini', encoding = 'utf-8')\n",
    "\n",
    "    USERNAME = config['POSTGRES']['USERNAME']\n",
    "    PASSWORD = config['POSTGRES']['PASSWORD']\n",
    "    HOST = config['POSTGRES']['HOST']\n",
    "    PORT = config['POSTGRES']['PORT']\n",
    "    DATABASE = config['POSTGRES']['DATABASE']\n",
    "    \n",
    "    conn = psycopg2.connect(host=HOST,\n",
    "                            user=USERNAME,\n",
    "                            password=PASSWORD,\n",
    "                            port=PORT,\n",
    "                            database=DATABASE\n",
    "                           )\n",
    "    \n",
    "    with conn.cursor() as cursor:\n",
    "        \n",
    "        if len(params) > 0:\n",
    "            cursor.execute(query, params)\n",
    "        else:\n",
    "            cursor.execute(query)\n",
    "            \n",
    "        headers = [x[0] for x in cursor.description]\n",
    "        data = cursor.fetchall()\n",
    "    \n",
    "    conn.close()\n",
    "       \n",
    "    return pd.DataFrame(columns=headers, data=data)"
   ]
  },
  {
   "cell_type": "code",
   "execution_count": 3,
   "metadata": {},
   "outputs": [],
   "source": [
    "# 9시간을 더해준 이유??\n",
    "# 방문시간을 확인해보니, 외래 방문시간이 새벽시간 or 늦은 저녁인 것을 확인\n",
    "# 이에 us 시간으로 되어 있다고 판단이 되어 한국시간으로 변경하기 위해 진해함.\n",
    "\n",
    "# 사망자의 경우 사망일 이후에도 여러 사유로 인해\n",
    "# 환자가 아닌 타인이 방문함. \n",
    "# 이에 이런 부분은 본인 내원이 아니라 판단되어, 총 내원일자 산정에 제외함\n",
    "qry = \"\"\"\n",
    "    select \n",
    "        max(visit_end_datetime - visit_start_datetime + 1) max_visit_days,\n",
    "        min(visit_end_datetime - visit_start_datetime + 1) min_visit_days,\n",
    "        sum(visit_end_datetime - visit_start_datetime + 1) total_visit_days\n",
    "    from \n",
    "        (\n",
    "            select \n",
    "                visit_concept_id,\n",
    "                person_id,\n",
    "                (visit_start_datetime + interval '9 hour')::date visit_start_datetime,\n",
    "                (visit_end_datetime + interval '9 hour')::date visit_end_datetime,\n",
    "                visit_end_date,\n",
    "                (\n",
    "                    select distinct death_date::date \n",
    "                    from death \n",
    "                    where person_id = a.person_id\n",
    "                ) death_date\n",
    "            from visit_occurrence a\n",
    "        ) b\n",
    "    where\n",
    "        visit_end_date <= COALESCE(death_date, now()::date) \n",
    "    ;\n",
    "\"\"\""
   ]
  },
  {
   "cell_type": "code",
   "execution_count": 4,
   "metadata": {},
   "outputs": [
    {
     "data": {
      "text/html": [
       "<div>\n",
       "<style scoped>\n",
       "    .dataframe tbody tr th:only-of-type {\n",
       "        vertical-align: middle;\n",
       "    }\n",
       "\n",
       "    .dataframe tbody tr th {\n",
       "        vertical-align: top;\n",
       "    }\n",
       "\n",
       "    .dataframe thead th {\n",
       "        text-align: right;\n",
       "    }\n",
       "</style>\n",
       "<table border=\"1\" class=\"dataframe\">\n",
       "  <thead>\n",
       "    <tr style=\"text-align: right;\">\n",
       "      <th></th>\n",
       "      <th>max_visit_days</th>\n",
       "      <th>min_visit_days</th>\n",
       "      <th>total_visit_days</th>\n",
       "    </tr>\n",
       "  </thead>\n",
       "  <tbody>\n",
       "    <tr>\n",
       "      <th>0</th>\n",
       "      <td>3731</td>\n",
       "      <td>1</td>\n",
       "      <td>72641</td>\n",
       "    </tr>\n",
       "  </tbody>\n",
       "</table>\n",
       "</div>"
      ],
      "text/plain": [
       "   max_visit_days  min_visit_days  total_visit_days\n",
       "0            3731               1             72641"
      ]
     },
     "execution_count": 4,
     "metadata": {},
     "output_type": "execute_result"
    }
   ],
   "source": [
    "result = query_select(qry)\n",
    "result"
   ]
  },
  {
   "cell_type": "code",
   "execution_count": null,
   "metadata": {},
   "outputs": [],
   "source": []
  }
 ],
 "metadata": {
  "kernelspec": {
   "display_name": "Python 3",
   "language": "python",
   "name": "python3"
  },
  "language_info": {
   "codemirror_mode": {
    "name": "ipython",
    "version": 3
   },
   "file_extension": ".py",
   "mimetype": "text/x-python",
   "name": "python",
   "nbconvert_exporter": "python",
   "pygments_lexer": "ipython3",
   "version": "3.8.5"
  }
 },
 "nbformat": 4,
 "nbformat_minor": 4
}
