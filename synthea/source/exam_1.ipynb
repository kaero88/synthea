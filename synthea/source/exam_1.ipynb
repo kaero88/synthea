{
 "cells": [
  {
   "cell_type": "code",
   "execution_count": 28,
   "metadata": {},
   "outputs": [],
   "source": [
    "import os \n",
    "import configparser\n",
    "\n",
    "import pandas as pd\n",
    "import numpy as np\n",
    "\n",
    "import psycopg2\n",
    "import sqlalchemy"
   ]
  },
  {
   "cell_type": "code",
   "execution_count": 29,
   "metadata": {},
   "outputs": [],
   "source": [
    "root_path = os.path.dirname(os.getcwd())\n",
    "data_path = '/'.join([root_path, 'data'])"
   ]
  },
  {
   "cell_type": "code",
   "execution_count": 72,
   "metadata": {},
   "outputs": [],
   "source": [
    "config  = configparser.ConfigParser()\n",
    "config.read(root_path + '/source/db_config.ini', encoding = 'utf-8')\n",
    "\n",
    "USERNAME = str(config['POSTGRES']['USERNAME'])\n",
    "PASSWORD = config['POSTGRES']['PASSWORD']\n",
    "HOST = config['POSTGRES']['HOST']\n",
    "PORT = config['POSTGRES']['PORT']\n",
    "DATABASE = config['POSTGRES']['DATABASE']\n",
    "\n",
    "engine = sqlalchemy.create_engine('postgresql://{}:{}@{}:{}/{}'.format(USERNAME, \n",
    "                                                                       PASSWORD,\n",
    "                                                                       HOST,\n",
    "                                                                       PORT,\n",
    "                                                                       DATABASE))"
   ]
  },
  {
   "cell_type": "code",
   "execution_count": 4,
   "metadata": {},
   "outputs": [],
   "source": [
    "def data_insert(df, table_nm,engine):\n",
    "    \n",
    "    # 데이터 저장\n",
    "    df.to_sql(name= table_nm, \n",
    "              con=engine,\n",
    "              index = False, \n",
    "              if_exists='append',\n",
    "              chunksize = 100000\n",
    "             )\n",
    "    return print(\" == END == \")"
   ]
  },
  {
   "cell_type": "markdown",
   "metadata": {},
   "source": [
    "# Data Load\n",
    "    - concept : \n",
    "    - condition_occurrence : 환자 진단이력\n",
    "    - death : 환자 사망이력\n",
    "    - drug_exposure : 약 처방이력\n",
    "    - person : 환자 정보\n",
    "    - visit_occurrence : 방문이력"
   ]
  },
  {
   "cell_type": "code",
   "execution_count": 5,
   "metadata": {},
   "outputs": [
    {
     "name": "stdout",
     "output_type": "stream",
     "text": [
      " - Load : (12167, 16)\n",
      " == END == \n"
     ]
    }
   ],
   "source": [
    "condition_occurrence_df = pd.read_csv(data_path+'/condition_occurrence.csv',\n",
    "                         engine='python',\n",
    "                         encoding = 'utf-8',\n",
    "                         sep = ','\n",
    "                        )\n",
    "print(\" - Load : {}\".format(condition_occurrence_df.shape))\n",
    "\n",
    "data_insert(df = condition_occurrence_df, \n",
    "            table_nm = 'condition_occurrence',\n",
    "            engine=engine\n",
    "           )"
   ]
  },
  {
   "cell_type": "code",
   "execution_count": 6,
   "metadata": {},
   "outputs": [
    {
     "name": "stdout",
     "output_type": "stream",
     "text": [
      " - Load : (1000, 18)\n",
      " == END == \n"
     ]
    }
   ],
   "source": [
    "person_df = pd.read_csv(data_path+'/person.csv',\n",
    "                         engine='python',\n",
    "                         encoding = 'utf-8',\n",
    "                         sep = ','\n",
    "                        )\n",
    "print(\" - Load : {}\".format(person_df.shape))\n",
    "\n",
    "data_insert(df = person_df, \n",
    "            table_nm = 'person',\n",
    "            engine=engine\n",
    "           )"
   ]
  },
  {
   "cell_type": "code",
   "execution_count": 8,
   "metadata": {},
   "outputs": [
    {
     "name": "stdout",
     "output_type": "stream",
     "text": [
      " - Load : (41810, 17)\n",
      " == END == \n"
     ]
    }
   ],
   "source": [
    "visit_occurrence_df = pd.read_csv(data_path+'/visit_occurrence.csv',\n",
    "                         engine='python',\n",
    "                         encoding = 'utf-8',\n",
    "                         sep = ','\n",
    "                        )\n",
    "print(\" - Load : {}\".format(visit_occurrence_df.shape))\n",
    "\n",
    "data_insert(df = visit_occurrence_df, \n",
    "            table_nm = 'visit_occurrence',\n",
    "            engine=engine\n",
    "           )"
   ]
  },
  {
   "cell_type": "code",
   "execution_count": 10,
   "metadata": {},
   "outputs": [
    {
     "name": "stdout",
     "output_type": "stream",
     "text": [
      " - Load : (152, 7)\n",
      " == END == \n"
     ]
    }
   ],
   "source": [
    "death_df = pd.read_csv(data_path+'/death.csv',\n",
    "                         engine='python',\n",
    "                         encoding = 'utf-8',\n",
    "                         sep = ','\n",
    "                        )\n",
    "print(\" - Load : {}\".format(death_df.shape))\n",
    "\n",
    "data_insert(df = death_df, \n",
    "            table_nm = 'death',\n",
    "            engine=engine\n",
    "           )"
   ]
  },
  {
   "cell_type": "code",
   "execution_count": 12,
   "metadata": {},
   "outputs": [
    {
     "name": "stdout",
     "output_type": "stream",
     "text": [
      " - Load : (46579, 23)\n",
      " == END == \n"
     ]
    }
   ],
   "source": [
    "drug_exposure_df = pd.read_csv(data_path+'/drug_exposure.csv',\n",
    "                         engine='python',\n",
    "                         encoding = 'utf-8',\n",
    "                         sep = ','\n",
    "                        )\n",
    "print(\" - Load : {}\".format(drug_exposure_df.shape))\n",
    "\n",
    "data_insert(df = drug_exposure_df, \n",
    "            table_nm = 'drug_exposure',\n",
    "            engine=engine\n",
    "           )"
   ]
  },
  {
   "cell_type": "code",
   "execution_count": 11,
   "metadata": {},
   "outputs": [
    {
     "name": "stdout",
     "output_type": "stream",
     "text": [
      " - Load : (7403692, 10)\n",
      " == END == \n"
     ]
    }
   ],
   "source": [
    "concept_df = pd.read_csv(data_path+'/concept.csv',\n",
    "                         engine='python',\n",
    "                         encoding = 'utf-8',\n",
    "                         sep = ','\n",
    "                        )\n",
    "print(\" - Load : {}\".format(concept_df.shape))\n",
    "\n",
    "data_insert(df = concept_df, \n",
    "            table_nm = 'concept',\n",
    "            engine=engine\n",
    "           )"
   ]
  },
  {
   "cell_type": "code",
   "execution_count": null,
   "metadata": {},
   "outputs": [],
   "source": []
  }
 ],
 "metadata": {
  "kernelspec": {
   "display_name": "Python 3",
   "language": "python",
   "name": "python3"
  },
  "language_info": {
   "codemirror_mode": {
    "name": "ipython",
    "version": 3
   },
   "file_extension": ".py",
   "mimetype": "text/x-python",
   "name": "python",
   "nbconvert_exporter": "python",
   "pygments_lexer": "ipython3",
   "version": "3.8.5"
  }
 },
 "nbformat": 4,
 "nbformat_minor": 4
}
